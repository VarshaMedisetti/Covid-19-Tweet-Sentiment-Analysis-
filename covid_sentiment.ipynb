{
  "nbformat": 4,
  "nbformat_minor": 0,
  "metadata": {
    "colab": {
      "provenance": [],
      "authorship_tag": "ABX9TyMS7BS9yRSY+LJ72IFARjKB",
      "include_colab_link": true
    },
    "kernelspec": {
      "name": "python3",
      "display_name": "Python 3"
    },
    "language_info": {
      "name": "python"
    }
  },
  "cells": [
    {
      "cell_type": "markdown",
      "metadata": {
        "id": "view-in-github",
        "colab_type": "text"
      },
      "source": [
        "<a href=\"https://colab.research.google.com/github/VarshaMedisetti/Covid-19-Tweet-Sentiment-Analysis-/blob/main/covid_sentiment.ipynb\" target=\"_parent\"><img src=\"https://colab.research.google.com/assets/colab-badge.svg\" alt=\"Open In Colab\"/></a>"
      ]
    },
    {
      "cell_type": "code",
      "source": [
        "import pandas as pd\n",
        "import numpy as np\n",
        "import nltk\n",
        "from sklearn.feature_extraction.text import TfidfVectorizer\n",
        "from sklearn.linear_model import LogisticRegression\n",
        "from nltk.corpus import stopwords\n",
        "from nltk.stem import WordNetLemmatizer\n",
        "import re\n",
        "from sklearn.metrics import accuracy_score\n",
        "from sklearn.model_selection import train_test_split\n",
        "\n",
        "\n",
        "nltk.download('stopwords')\n",
        "nltk.download('wordnet')\n",
        "\n",
        "\n",
        "df = pd.read_excel('/content/Covid-19 Twitter Dataset (Apr-Jun 2020).xlsx')\n",
        "df.fillna('', inplace=True)\n",
        "\n",
        "\n",
        "lemmatizer = WordNetLemmatizer()\n",
        "stop_words = set(stopwords.words('english'))\n",
        "\n",
        "def preprocess_text(text):\n",
        "    text = re.sub(r'http\\S+', '', text)  # Remove URLs\n",
        "    text = re.sub(r'@[A-Za-z0-9_]+', '', text)  # Remove mentions\n",
        "    text = re.sub(r'#', '', text)  # Remove hashtags\n",
        "    text = re.sub(r'RT[\\s]+', '', text)  # Remove retweets\n",
        "    text = re.sub(r'[^\\w\\s]', '', text)  # Remove punctuation and special characters\n",
        "    text = re.sub(r'\\d+', '', text)  # Remove numbers\n",
        "    text = text.lower().strip()  # Convert to lowercase and strip whitespace\n",
        "\n",
        "    tokens = text.split()\n",
        "    tokens = [lemmatizer.lemmatize(word) for word in tokens if word not in stop_words]\n",
        "\n",
        "    return ' '.join(tokens)\n",
        "\n",
        "\n",
        "df['clean_text'] = df['original_text'].apply(preprocess_text)\n",
        "\n",
        "\n",
        "tfidf_vectorizer = TfidfVectorizer(max_features=1000)\n",
        "X = tfidf_vectorizer.fit_transform(df['clean_text'].astype(str))\n",
        "y = df['sentiment']\n",
        "\n",
        "X_train, X_test, y_train, y_test = train_test_split(X, y, test_size=0.2, random_state=42)\n",
        "\n",
        "model = LogisticRegression(max_iter=1000)\n",
        "model.fit(X_train, y_train)\n",
        "\n",
        "\n",
        "y_pred = model.predict(X_test)\n",
        "\n",
        "\n",
        "accuracy = accuracy_score(y_test, y_pred)\n",
        "print(f\"Accuracy on the test set: {accuracy:.2f}\")\n",
        "\n",
        "\n",
        "def predict_sentiment_from_input():\n",
        "    while True:\n",
        "        new_text = input(\"Enter a sentence (Enter '0' to exit): \")\n",
        "        if new_text == '0':\n",
        "            break\n",
        "\n",
        "        new_text_clean = preprocess_text(new_text)\n",
        "        new_text_vectorized = tfidf_vectorizer.transform([new_text_clean])\n",
        "        prediction = model.predict(new_text_vectorized)\n",
        "\n",
        "        if prediction[0] == 'pos':\n",
        "            sentiment = 'Positive'\n",
        "        else:\n",
        "            sentiment = 'Negative'\n",
        "\n",
        "        print(f\"Predicted sentiment for '{new_text}': {sentiment}\")\n",
        "\n",
        "predict_sentiment_from_input()\n"
      ],
      "metadata": {
        "colab": {
          "base_uri": "https://localhost:8080/"
        },
        "id": "5UXSfSIchn5C",
        "outputId": "0b7f53e9-01ea-48bc-f6b1-ec7beaaa11b9"
      },
      "execution_count": 5,
      "outputs": [
        {
          "output_type": "stream",
          "name": "stderr",
          "text": [
            "[nltk_data] Downloading package stopwords to /root/nltk_data...\n",
            "[nltk_data]   Unzipping corpora/stopwords.zip.\n",
            "[nltk_data] Downloading package wordnet to /root/nltk_data...\n",
            "[nltk_data]   Package wordnet is already up-to-date!\n"
          ]
        },
        {
          "name": "stdout",
          "output_type": "stream",
          "text": [
            "Accuracy on the test set: 0.79\n",
            "Enter a sentence (Enter '0' to exit): call leader help protect refuge covid19 provid qualiti health care\n",
            "Predicted sentiment for 'call leader help protect refuge covid19 provid qualiti health care': Positive\n",
            "Enter a sentence (Enter '0' to exit): ogun state support cbn nirsal covid19 target credit facil tcf\n",
            "Predicted sentiment for 'ogun state support cbn nirsal covid19 target credit facil tcf': Positive\n",
            "Enter a sentence (Enter '0' to exit): covid19 oyo discharg two patient\n",
            "Predicted sentiment for 'covid19 oyo discharg two patient': Negative\n",
            "Enter a sentence (Enter '0' to exit): condol famili surviv\n",
            "Predicted sentiment for 'condol famili surviv': Negative\n",
            "Enter a sentence (Enter '0' to exit): 0\n"
          ]
        }
      ]
    },
    {
      "cell_type": "code",
      "execution_count": 5,
      "metadata": {
        "id": "el3f4_cF-1uZ"
      },
      "outputs": [],
      "source": []
    },
    {
      "cell_type": "code",
      "source": [],
      "metadata": {
        "id": "NorYK02X_dIg"
      },
      "execution_count": 5,
      "outputs": []
    },
    {
      "cell_type": "code",
      "source": [],
      "metadata": {
        "id": "zlFoE3JdElRQ"
      },
      "execution_count": 5,
      "outputs": []
    },
    {
      "cell_type": "code",
      "source": [],
      "metadata": {
        "id": "Mq2PYxj_H7X1"
      },
      "execution_count": 5,
      "outputs": []
    }
  ]
}